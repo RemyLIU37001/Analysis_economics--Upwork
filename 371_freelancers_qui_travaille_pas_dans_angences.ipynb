{
 "cells": [
  {
   "cell_type": "markdown",
   "metadata": {
    "id": "Za04hMZUMe7L"
   },
   "source": [
    "#  <center>  Web-Scrapping des infos des freelancers sans agences  <center>\n",
    " \n",
    "Nous avons obtenue 1050 de idtentification mais nous avons réussi collecter 371 oberservations parmi eux."
   ]
  },
  {
   "cell_type": "code",
   "execution_count": 1,
   "metadata": {
    "id": "v7Shxe5QMe7f"
   },
   "outputs": [],
   "source": [
    "import time\n",
    "import requests\n",
    "from bs4 import BeautifulSoup\n",
    "import pandas as pd\n",
    "import numpy as np\n",
    "import copy"
   ]
  },
  {
   "cell_type": "markdown",
   "metadata": {},
   "source": [
    "## Récupérer les identifications"
   ]
  },
  {
   "cell_type": "markdown",
   "metadata": {
    "id": "v0plJjmda50M"
   },
   "source": [
    "COMMENCE A 10:46 FINIR A 11:09"
   ]
  },
  {
   "cell_type": "markdown",
   "metadata": {
    "id": "WJAaYbAxanoy"
   },
   "source": [
    "### <center>23 min pour avoir les identifications<center>"
   ]
  },
  {
   "cell_type": "code",
   "execution_count": 2,
   "metadata": {
    "id": "3D6g2Pi-Me7l"
   },
   "outputs": [],
   "source": [
    "headers = {\n",
    "  'host': 'www.upwork.com',\n",
    "  'user-agent': 'Mozilla/5.0 (Windows NT 10.0; Win64; x64) AppleWebKit/537.36 (KHTML, like Gecko) Chrome/96.0.4664.110 Safari/537.36',\n",
    "  'cookie': 'visitor_id=195.83.48.81.1637071873989000; lang=en; spt=5687a8e3-0b6f-458b-9ec7-5ea26a788067; _pxvid=0eabb6f8-46e7-11ec-9a3b-4e746f635050; _gcl_au=1.1.539077891.1637071917; cb_user_id=null; cb_group_id=null; cb_anonymous_id=%222c08c7ea-8a96-4a5b-90e3-05e994cd6e60%22; _fbp=fb.1.1637071934840.192595906; _rdt_uuid=1637071936866.f02b2ed8-5e72-451b-b8b2-9282d47d2fab; slirequested=true; sliguid=781a4f49-c9ef-453c-b3f0-758d97457ce6; __pdst=d3e5e20e63a9440bba61ce105ae50331; UserPrivacySettings=%7B%22AlertBoxClosed%22%3A%222021-11-16T14%3A12%3A57.412Z%22%2C%22Groups%22%3A%7B%22Targeting%22%3Atrue%7D%7D; keen={%22uuid%22:%22531c35b7-8163-4de0-a495-f79529a5885e%22%2C%22initialReferrer%22:%22https://www.upwork.com/%22}; _mkto_trk=id:518-RKL-392&token:_mch-upwork.com-1637072137411-46474; G_ENABLED_IDPS=google; recognized=b961bcc2; bmuid=1638741364576-E9A1FD6D-014C-4A63-A4C5-EBE68B785C8D; cdSNum=1638741355272-sjn0000365-d340b50f-30d9-4f54-a67b-1831c20163d8; odesk_signup.referer.raw=https%3A%2F%2Fwww.upwork.com%2F; _clck=1pox0lh|1|eya|0; _pxhd=zpYIYg39O8WWTqRJ6Ar9Fi7DekiI-rgfRL5z0boazFfKO6k6Olcgksvkr6ZRi5WOL/VHQ0NXwwI7FZKROrJfng==:02j8HCOVBHZN9CpLMgjvrx/oEHNijRmC7HcPXPkrBMyd5KOtXnb5ukyTwPjQd9qt-P8-hYWs7mT2aELh2QZl5tLpXo5M1suA6wbwPdf-oWE=; enabled_ff=CI11132Air2Dot75,CI9570Air2Dot5,!CI10270Air2Dot5QTAllocations,!CI10857Air3Dot0,!SSINav,!OTBnrOn,!OTBnr; survey_allowed=true; cookie_prefix=; cookie_domain=.upwork.com; __cf_bm=lC6WV4DOmtT5ryTaVaPaa9EKRFs6J.uEkfD2IUNhD2Y-1642794586-0-AeO1q0ndrGu/ZRNtIy3oFHXEhPzMGPa96Z12Onn1OHj07lNLPmKy9dRzq0i6VK2piOAtcPJAa74eedKI+BExetU=; __cfruid=942d0f441dd79bb0319d874cbf1f32ae4de92ec4-1642794586; device_view=full; pxcts=55df9e5a-7af3-11ec-8bd3-6c6f7354446d; _sp_ses.2a16=*; _gid=GA1.2.373061672.1642794668; _hp2_ses_props.2858077939=%7B%22r%22%3A%22https%3A%2F%2Fwww.google.com%2F%22%2C%22ts%22%3A1642794668045%2C%22d%22%3A%22www.upwork.com%22%2C%22h%22%3A%22%2F%22%7D; g_state={\"i_p\":1643399475556,\"i_l\":3}; channel=other; _dpm_ses.5831=*; IR_gbd=upwork.com; prodperfect_session={%22session_uuid%22:%2250db1762-3fcf-4f58-93c0-f8c2fa799e48%22}; visitor_gql_token=oauth2v2_eac7e7b7b647265c2a625e5d6bc78d34; IR_13634=1642794733054%7C0%7C1642794733054%7C%7C; _uetsid=8a6c14307af311ec9cb721ab5331e7d7; _uetvid=34e379d046e711ecb049a57a717ec471; _ga=GA1.2.1476560320.1637071917; _ga_KSM221PNDX=GS1.1.1642794667.7.1.1642794755.0; _px3=df7947991ec91fa57d098028da962706c8d3c56a054782a125abaeeb0df8f3e0:uvc067wWrKtvT30QU3vD5gP0xW45rA5tuiBYqK9uCvHQkSqFCV0KpypFkMOmE/7WTJ8191+vJO2Ikaqv1OfgdA==:1000:VB1PBxZ967+NlGVaatV2IZs/jDSH50MjGvJupxyudJNumjd8g2yJIp3sanM3O0gxCjtaOzl//mc+mlBUxtZ8bNuWKMyX/F1x1zB2DIA3vTxkOAAdDnmluaMAMpnMMPHJGfsgJN/G7Bi7PBY0svRkhiy95kZ1GjU2SU2+BvOKlVSRjs5edJImp18xzyxs1X/h1H1oUcb7b8iaXFqZ09tgnw==; _hp2_props.2858077939=%7B%22container_id%22%3A%22GTM-P8M8MVZ%22%2C%22user_context%22%3A%22unknown%22%2C%22user_logged_in%22%3A%22unknown%22%7D; _dpm_id.5831=6bc2dd87-95fa-4cf3-ab0c-f84a6b5372d5.1637071939.26.1642795020.1642681810.72e45abf-c793-4476-9d98-54ab2a0536c0; XSRF-TOKEN=a28f7c5fdbd52b04985332439c9971ab; _sp_id.2a16=aab5df73-0280-4c06-a7d9-fc794ffc6938.1637071917.26.1642795250.1642681807.9a37d1b3-3f8c-4445-aeb5-b4f5a13fa1fe; _hp2_id.2858077939=%7B%22userId%22%3A%222252629139422892%22%2C%22pageviewId%22%3A%222877579548423052%22%2C%22sessionId%22%3A%22280019533429718%22%2C%22identity%22%3A%221467602249194414080%22%2C%22trackerVersion%22%3A%224.0%22%2C%22identityField%22%3Anull%2C%22isIdentified%22%3A1%7D; vps_gql_token=oauth2v2_123f24018fb74d3a46465a921016bc61'\n",
    "}\n",
    "url = 'https://www.upwork.com/search/profiles/?page={}&pt=independent'\n",
    "urls =[url.format(num+1) for num in range(200)]\n",
    "list_of_id =[]\n",
    "for u in urls:\n",
    "  res = requests.get(u ,headers = headers)\n",
    "  soup = BeautifulSoup(res.text,'html.parser')\n",
    "  items = soup.find_all('div',class_='d-flex freelancer-tile')\n",
    "  for i in items:\n",
    "     id_freelancer = i.find('div',class_ = 'cfe-ui-freelancer-tile-identity flex-1 m-0 overflow-auto').get('data-qa-freelancer-ciphertext')\n",
    "     list_of_id.append(copy.deepcopy(id_freelancer))\n",
    "     time.sleep(1)\n",
    "#     Earned = i.find('div',class_='up-popper-trigger').text\n",
    "#     Indice = i.find('span',class_='status-text d-flex top-rated-badge-status').text\n",
    "#     first_skill = i.find('div',class_='up-skill-badge').text\n"
   ]
  },
  {
   "cell_type": "code",
   "execution_count": 3,
   "metadata": {
    "colab": {
     "base_uri": "https://localhost:8080/"
    },
    "id": "i92oNU_cNajp",
    "outputId": "31be97c9-6004-44a2-98ff-ef995800eaa4"
   },
   "outputs": [
    {
     "name": "stdout",
     "output_type": "stream",
     "text": [
      "1050\n"
     ]
    }
   ],
   "source": [
    "print(len(list_of_id))"
   ]
  },
  {
   "cell_type": "code",
   "execution_count": 4,
   "metadata": {
    "colab": {
     "base_uri": "https://localhost:8080/"
    },
    "id": "qkB6809ybFjy",
    "outputId": "7d625557-3e28-4c62-8ee5-7f38d7b0b909"
   },
   "outputs": [
    {
     "data": {
      "text/plain": [
       "1050"
      ]
     },
     "execution_count": 4,
     "metadata": {},
     "output_type": "execute_result"
    }
   ],
   "source": [
    "len(list_of_id)"
   ]
  },
  {
   "cell_type": "code",
   "execution_count": 5,
   "metadata": {
    "id": "CZPWGCtbMe7p"
   },
   "outputs": [],
   "source": [
    "url = 'https://www.upwork.com/freelancers/{}'\n",
    "for i in id_freelancer:\n",
    "    urls =[url.format(id)for id in list_of_id]"
   ]
  },
  {
   "cell_type": "code",
   "execution_count": 11,
   "metadata": {
    "id": "VApyk_PDMe7w"
   },
   "outputs": [],
   "source": [
    "columns_names = ['Nom','nationalité','Horaire_Total','total_jobs_hours','salary','hours_per_week']\n",
    "df = pd.DataFrame(columns = columns_names)"
   ]
  },
  {
   "cell_type": "markdown",
   "metadata": {},
   "source": [
    "## Récpérer les infos des freelancers"
   ]
  },
  {
   "cell_type": "markdown",
   "metadata": {},
   "source": [
    "<CENTER>COMMENCE 11:10 FINIR A  <CENTER>\n",
    "<CENTER> MIN   <CENTER>"
   ]
  },
  {
   "cell_type": "code",
   "execution_count": 23,
   "metadata": {
    "id": "6eZmqgtJMe7y"
   },
   "outputs": [],
   "source": [
    "headers = {\n",
    "  'host': 'www.upwork.com',\n",
    "  'user-agent': 'Mozilla/5.0 (Windows NT 10.0; Win64; x64) AppleWebKit/537.36 (KHTML, like Gecko) Chrome/96.0.4664.110 Safari/537.36',\n",
    "  'cookie': 'visitor_id=195.83.48.81.1637071873989000; lang=en; spt=5687a8e3-0b6f-458b-9ec7-5ea26a788067; _pxvid=0eabb6f8-46e7-11ec-9a3b-4e746f635050; _gcl_au=1.1.539077891.1637071917; cb_user_id=null; cb_group_id=null; cb_anonymous_id=%222c08c7ea-8a96-4a5b-90e3-05e994cd6e60%22; _fbp=fb.1.1637071934840.192595906; _rdt_uuid=1637071936866.f02b2ed8-5e72-451b-b8b2-9282d47d2fab; slirequested=true; sliguid=781a4f49-c9ef-453c-b3f0-758d97457ce6; __pdst=d3e5e20e63a9440bba61ce105ae50331; UserPrivacySettings=%7B%22AlertBoxClosed%22%3A%222021-11-16T14%3A12%3A57.412Z%22%2C%22Groups%22%3A%7B%22Targeting%22%3Atrue%7D%7D; keen={%22uuid%22:%22531c35b7-8163-4de0-a495-f79529a5885e%22%2C%22initialReferrer%22:%22https://www.upwork.com/%22}; _mkto_trk=id:518-RKL-392&token:_mch-upwork.com-1637072137411-46474; G_ENABLED_IDPS=google; recognized=b961bcc2; bmuid=1638741364576-E9A1FD6D-014C-4A63-A4C5-EBE68B785C8D; cdSNum=1638741355272-sjn0000365-d340b50f-30d9-4f54-a67b-1831c20163d8; odesk_signup.referer.raw=https%3A%2F%2Fwww.upwork.com%2F; _clck=1pox0lh|1|eya|0; _pxhd=zpYIYg39O8WWTqRJ6Ar9Fi7DekiI-rgfRL5z0boazFfKO6k6Olcgksvkr6ZRi5WOL/VHQ0NXwwI7FZKROrJfng==:02j8HCOVBHZN9CpLMgjvrx/oEHNijRmC7HcPXPkrBMyd5KOtXnb5ukyTwPjQd9qt-P8-hYWs7mT2aELh2QZl5tLpXo5M1suA6wbwPdf-oWE=; enabled_ff=CI11132Air2Dot75,CI9570Air2Dot5,!CI10270Air2Dot5QTAllocations,!CI10857Air3Dot0,!SSINav,!OTBnrOn,!OTBnr; survey_allowed=true; cookie_prefix=; cookie_domain=.upwork.com; __cf_bm=lC6WV4DOmtT5ryTaVaPaa9EKRFs6J.uEkfD2IUNhD2Y-1642794586-0-AeO1q0ndrGu/ZRNtIy3oFHXEhPzMGPa96Z12Onn1OHj07lNLPmKy9dRzq0i6VK2piOAtcPJAa74eedKI+BExetU=; __cfruid=942d0f441dd79bb0319d874cbf1f32ae4de92ec4-1642794586; device_view=full; pxcts=55df9e5a-7af3-11ec-8bd3-6c6f7354446d; _sp_ses.2a16=*; _gid=GA1.2.373061672.1642794668; _hp2_ses_props.2858077939=%7B%22r%22%3A%22https%3A%2F%2Fwww.google.com%2F%22%2C%22ts%22%3A1642794668045%2C%22d%22%3A%22www.upwork.com%22%2C%22h%22%3A%22%2F%22%7D; g_state={\"i_p\":1643399475556,\"i_l\":3}; channel=other; _dpm_ses.5831=*; IR_gbd=upwork.com; prodperfect_session={%22session_uuid%22:%2250db1762-3fcf-4f58-93c0-f8c2fa799e48%22}; visitor_gql_token=oauth2v2_eac7e7b7b647265c2a625e5d6bc78d34; IR_13634=1642794733054%7C0%7C1642794733054%7C%7C; _uetsid=8a6c14307af311ec9cb721ab5331e7d7; _uetvid=34e379d046e711ecb049a57a717ec471; _ga=GA1.2.1476560320.1637071917; _ga_KSM221PNDX=GS1.1.1642794667.7.1.1642794755.0; _px3=df7947991ec91fa57d098028da962706c8d3c56a054782a125abaeeb0df8f3e0:uvc067wWrKtvT30QU3vD5gP0xW45rA5tuiBYqK9uCvHQkSqFCV0KpypFkMOmE/7WTJ8191+vJO2Ikaqv1OfgdA==:1000:VB1PBxZ967+NlGVaatV2IZs/jDSH50MjGvJupxyudJNumjd8g2yJIp3sanM3O0gxCjtaOzl//mc+mlBUxtZ8bNuWKMyX/F1x1zB2DIA3vTxkOAAdDnmluaMAMpnMMPHJGfsgJN/G7Bi7PBY0svRkhiy95kZ1GjU2SU2+BvOKlVSRjs5edJImp18xzyxs1X/h1H1oUcb7b8iaXFqZ09tgnw==; _hp2_props.2858077939=%7B%22container_id%22%3A%22GTM-P8M8MVZ%22%2C%22user_context%22%3A%22unknown%22%2C%22user_logged_in%22%3A%22unknown%22%7D; _dpm_id.5831=6bc2dd87-95fa-4cf3-ab0c-f84a6b5372d5.1637071939.26.1642795020.1642681810.72e45abf-c793-4476-9d98-54ab2a0536c0; XSRF-TOKEN=a28f7c5fdbd52b04985332439c9971ab; _sp_id.2a16=aab5df73-0280-4c06-a7d9-fc794ffc6938.1637071917.26.1642795250.1642681807.9a37d1b3-3f8c-4445-aeb5-b4f5a13fa1fe; _hp2_id.2858077939=%7B%22userId%22%3A%222252629139422892%22%2C%22pageviewId%22%3A%222877579548423052%22%2C%22sessionId%22%3A%22280019533429718%22%2C%22identity%22%3A%221467602249194414080%22%2C%22trackerVersion%22%3A%224.0%22%2C%22identityField%22%3Anull%2C%22isIdentified%22%3A1%7D; vps_gql_token=oauth2v2_123f24018fb74d3a46465a921016bc61'\n",
    "}\n",
    "for u in urls:\n",
    "    res = requests.get(u ,headers = headers)\n",
    "    soup = BeautifulSoup(res.text,'html.parser')\n",
    "    items = soup.find_all('div',class_='visitor-page-container')\n",
    "#    print(items)\n",
    "#    print(soup)\n",
    "#    liste_names = []\n",
    "    for i in items:  \n",
    "        Nom = i.find('h1',class_ = 'd-inline vertical-align-middle m-0').text\n",
    "#        Titre = i.find('h2',class_ = 'mb-0 font-weight-black').text\n",
    "#        Description = i.find('div',class_= 'up-line-clamp-wrapper col').text\n",
    "        nationalité = i.find('div',class_ = 'd-block d-md-inline-block location').text\n",
    "        Horaire_Total = i.find('div',class_ = 'cfe-ui-profile-summary-stats').text\n",
    "#        Taux_horaire = i.find('h3',class_ = 'my-20').text    \n",
    "        #job_success = i.find('div',class_ = 'cfe-ui-profile-job-success').text\n",
    "        total_jobs_hours = i.find('div',class_ = 'd-flex').text\n",
    "        salary = i.find('h3',class_='my-20').text\n",
    "        hours_per_week = i.find('div',class_='mt-20').text\n",
    "        time.sleep(1)\n",
    "#        print(Nom,Titre,Description,nationalité,Horaire_Total,Taux_horaire,job_success,total_jobs_hours,salary,hours_per_week)\n",
    "#        print('Nom:',Nom, 'Titre:',Titre,'Description',Description,\n",
    "#                 'nationalité', nationalité,'Horaire_Total', Horaire_Total,\n",
    "#                 'Taux_horaire', Taux_horaire,'job_success', job_success,\n",
    "#                 'total_jobs_hours', total_jobs_hours, 'salary', salary, 'hours_per_week', hours_per_week) #affichage pour vérification\n",
    "        df = df.append({'Nom': Nom,\n",
    "                 'nationalité': nationalité,'Horaire_Total': Horaire_Total,\n",
    "                \n",
    "                 'total_jobs_hours': total_jobs_hours, 'salary': salary, 'hours_per_week': hours_per_week},ignore_index = True)"
   ]
  },
  {
   "cell_type": "code",
   "execution_count": 24,
   "metadata": {
    "colab": {
     "base_uri": "https://localhost:8080/",
     "height": 815
    },
    "id": "QFi1aFsTMe74",
    "outputId": "8de882c8-e956-43f6-de0d-eb1241ce0668",
    "scrolled": false
   },
   "outputs": [
    {
     "data": {
      "text/html": [
       "<div>\n",
       "<style scoped>\n",
       "    .dataframe tbody tr th:only-of-type {\n",
       "        vertical-align: middle;\n",
       "    }\n",
       "\n",
       "    .dataframe tbody tr th {\n",
       "        vertical-align: top;\n",
       "    }\n",
       "\n",
       "    .dataframe thead th {\n",
       "        text-align: right;\n",
       "    }\n",
       "</style>\n",
       "<table border=\"1\" class=\"dataframe\">\n",
       "  <thead>\n",
       "    <tr style=\"text-align: right;\">\n",
       "      <th></th>\n",
       "      <th>Nom</th>\n",
       "      <th>nationalité</th>\n",
       "      <th>Horaire_Total</th>\n",
       "      <th>total_jobs_hours</th>\n",
       "      <th>salary</th>\n",
       "      <th>hours_per_week</th>\n",
       "    </tr>\n",
       "  </thead>\n",
       "  <tbody>\n",
       "    <tr>\n",
       "      <th>0</th>\n",
       "      <td>Igor Z.</td>\n",
       "      <td>Kyiv, Ukraine</td>\n",
       "      <td>498 Total Jobs30,740 Total Hours</td>\n",
       "      <td>93%  Job Success        The percentage of this...</td>\n",
       "      <td>$33.00/hr</td>\n",
       "      <td>Jan 20, 2022</td>\n",
       "    </tr>\n",
       "    <tr>\n",
       "      <th>1</th>\n",
       "      <td>Shabbir H.</td>\n",
       "      <td>Indore, India</td>\n",
       "      <td>1,137 Total Jobs1,521 Total Hours</td>\n",
       "      <td>92%  Job Success        The percentage of this...</td>\n",
       "      <td>$35.00/hr</td>\n",
       "      <td>Rating is 4 out of 5.     4.00       Oct 3,...</td>\n",
       "    </tr>\n",
       "    <tr>\n",
       "      <th>2</th>\n",
       "      <td>Alejandro A.</td>\n",
       "      <td>Buenos Aires, Argentina</td>\n",
       "      <td>313 Total Jobs414 Total Hours</td>\n",
       "      <td>99%  Job Success        The percentage of this...</td>\n",
       "      <td>$50.00/hr</td>\n",
       "      <td>Sep 16, 2021          -      Nov 1, 2021</td>\n",
       "    </tr>\n",
       "    <tr>\n",
       "      <th>3</th>\n",
       "      <td>Shina R.</td>\n",
       "      <td>Jalalabad, India</td>\n",
       "      <td>166 Total Jobs147 Total Hours</td>\n",
       "      <td>95%  Job Success        The percentage of this...</td>\n",
       "      <td>$15.00/hr</td>\n",
       "      <td>Rating is 5 out of 5.     5.00       Jan 23...</td>\n",
       "    </tr>\n",
       "    <tr>\n",
       "      <th>4</th>\n",
       "      <td>Amer Z.</td>\n",
       "      <td>Irbid, Jordan</td>\n",
       "      <td>14 Total Jobs4 Total Hours</td>\n",
       "      <td>91%  Job Success        The percentage of this...</td>\n",
       "      <td>$45.00/hr</td>\n",
       "      <td>Rating is 5 out of 5.     5.00       Aug 18...</td>\n",
       "    </tr>\n",
       "    <tr>\n",
       "      <th>...</th>\n",
       "      <td>...</td>\n",
       "      <td>...</td>\n",
       "      <td>...</td>\n",
       "      <td>...</td>\n",
       "      <td>...</td>\n",
       "      <td>...</td>\n",
       "    </tr>\n",
       "    <tr>\n",
       "      <th>366</th>\n",
       "      <td>\\n            Dayeon L.\\n</td>\n",
       "      <td>Pyeongtaek, South Korea</td>\n",
       "      <td>118 Total Jobs1,913 Total Hours</td>\n",
       "      <td>98%  Job Success  \\n      The percentage of th...</td>\n",
       "      <td>$50.00/hr\\n</td>\n",
       "      <td>Rating is 4.85 out of 5. \\n    4.85\\n   \\n ...</td>\n",
       "    </tr>\n",
       "    <tr>\n",
       "      <th>367</th>\n",
       "      <td>\\n            Amit C.\\n</td>\n",
       "      <td>Jalgaon, India</td>\n",
       "      <td>26 Total Jobs7 Total Hours</td>\n",
       "      <td>89%  Job Success  \\n      The percentage of th...</td>\n",
       "      <td>$8.00/hr\\n</td>\n",
       "      <td>Rating is 4.7 out of 5. \\n    4.70\\n   \\n  ...</td>\n",
       "    </tr>\n",
       "    <tr>\n",
       "      <th>368</th>\n",
       "      <td>\\n            James S.\\n</td>\n",
       "      <td>Pottstown, United States</td>\n",
       "      <td>9 Total Jobs3 Total Hours</td>\n",
       "      <td>100%  Job Success  \\n      The percentage of t...</td>\n",
       "      <td>$60.00/hr\\n</td>\n",
       "      <td>Rating is 5 out of 5. \\n    5.00\\n   \\n    ...</td>\n",
       "    </tr>\n",
       "    <tr>\n",
       "      <th>369</th>\n",
       "      <td>\\n            Ian D.\\n</td>\n",
       "      <td>Herford, Germany</td>\n",
       "      <td>172 Total Jobs926 Total Hours</td>\n",
       "      <td>98%  Job Success  \\n      The percentage of th...</td>\n",
       "      <td>$62.50/hr\\n</td>\n",
       "      <td>Rating is 5 out of 5. \\n    5.00\\n   \\n    ...</td>\n",
       "    </tr>\n",
       "    <tr>\n",
       "      <th>370</th>\n",
       "      <td>\\n            Alexsandra K.\\n</td>\n",
       "      <td>Kyiv, Ukraine</td>\n",
       "      <td>6 Total Jobs</td>\n",
       "      <td>100%  Job Success  \\n      The percentage of t...</td>\n",
       "      <td>$25.00/hr\\n</td>\n",
       "      <td>\\n    Oct 21, 2021\\n    \\n      -\\n      Oct...</td>\n",
       "    </tr>\n",
       "  </tbody>\n",
       "</table>\n",
       "<p>371 rows × 6 columns</p>\n",
       "</div>"
      ],
      "text/plain": [
       "                                         Nom                nationalité  \\\n",
       "0                          Igor Z.                        Kyiv, Ukraine   \n",
       "1                       Shabbir H.                        Indore, India   \n",
       "2                     Alejandro A.              Buenos Aires, Argentina   \n",
       "3                         Shina R.                     Jalalabad, India   \n",
       "4                          Amer Z.                        Irbid, Jordan   \n",
       "..                                       ...                        ...   \n",
       "366      \\n            Dayeon L.\\n              Pyeongtaek, South Korea   \n",
       "367        \\n            Amit C.\\n                       Jalgaon, India   \n",
       "368       \\n            James S.\\n             Pottstown, United States   \n",
       "369         \\n            Ian D.\\n                     Herford, Germany   \n",
       "370  \\n            Alexsandra K.\\n                        Kyiv, Ukraine   \n",
       "\n",
       "                         Horaire_Total  \\\n",
       "0     498 Total Jobs30,740 Total Hours   \n",
       "1    1,137 Total Jobs1,521 Total Hours   \n",
       "2        313 Total Jobs414 Total Hours   \n",
       "3        166 Total Jobs147 Total Hours   \n",
       "4           14 Total Jobs4 Total Hours   \n",
       "..                                 ...   \n",
       "366    118 Total Jobs1,913 Total Hours   \n",
       "367         26 Total Jobs7 Total Hours   \n",
       "368          9 Total Jobs3 Total Hours   \n",
       "369      172 Total Jobs926 Total Hours   \n",
       "370                       6 Total Jobs   \n",
       "\n",
       "                                      total_jobs_hours          salary  \\\n",
       "0    93%  Job Success        The percentage of this...    $33.00/hr      \n",
       "1    92%  Job Success        The percentage of this...    $35.00/hr      \n",
       "2    99%  Job Success        The percentage of this...    $50.00/hr      \n",
       "3    95%  Job Success        The percentage of this...    $15.00/hr      \n",
       "4    91%  Job Success        The percentage of this...    $45.00/hr      \n",
       "..                                                 ...             ...   \n",
       "366  98%  Job Success  \\n      The percentage of th...  $50.00/hr\\n      \n",
       "367  89%  Job Success  \\n      The percentage of th...   $8.00/hr\\n      \n",
       "368  100%  Job Success  \\n      The percentage of t...  $60.00/hr\\n      \n",
       "369  98%  Job Success  \\n      The percentage of th...  $62.50/hr\\n      \n",
       "370  100%  Job Success  \\n      The percentage of t...  $25.00/hr\\n      \n",
       "\n",
       "                                        hours_per_week  \n",
       "0                                    Jan 20, 2022       \n",
       "1       Rating is 4 out of 5.     4.00       Oct 3,...  \n",
       "2            Sep 16, 2021          -      Nov 1, 2021   \n",
       "3       Rating is 5 out of 5.     5.00       Jan 23...  \n",
       "4       Rating is 5 out of 5.     5.00       Aug 18...  \n",
       "..                                                 ...  \n",
       "366     Rating is 4.85 out of 5. \\n    4.85\\n   \\n ...  \n",
       "367     Rating is 4.7 out of 5. \\n    4.70\\n   \\n  ...  \n",
       "368     Rating is 5 out of 5. \\n    5.00\\n   \\n    ...  \n",
       "369     Rating is 5 out of 5. \\n    5.00\\n   \\n    ...  \n",
       "370    \\n    Oct 21, 2021\\n    \\n      -\\n      Oct...  \n",
       "\n",
       "[371 rows x 6 columns]"
      ]
     },
     "execution_count": 24,
     "metadata": {},
     "output_type": "execute_result"
    }
   ],
   "source": [
    "df"
   ]
  },
  {
   "cell_type": "markdown",
   "metadata": {},
   "source": [
    "## Supression des signe \\n des données "
   ]
  },
  {
   "cell_type": "code",
   "execution_count": 25,
   "metadata": {
    "id": "vwJTaAsZNakK"
   },
   "outputs": [],
   "source": [
    "for c in [column for column in df]:\n",
    "    df[c] = df[c].apply(lambda x:x.replace('\\n', '').replace('\\r', ''))"
   ]
  },
  {
   "cell_type": "code",
   "execution_count": 26,
   "metadata": {
    "colab": {
     "base_uri": "https://localhost:8080/",
     "height": 815
    },
    "id": "1LsxQ3_xNakR",
    "outputId": "4e1582db-2d11-439e-fae8-cc1b469077d8"
   },
   "outputs": [
    {
     "data": {
      "text/html": [
       "<div>\n",
       "<style scoped>\n",
       "    .dataframe tbody tr th:only-of-type {\n",
       "        vertical-align: middle;\n",
       "    }\n",
       "\n",
       "    .dataframe tbody tr th {\n",
       "        vertical-align: top;\n",
       "    }\n",
       "\n",
       "    .dataframe thead th {\n",
       "        text-align: right;\n",
       "    }\n",
       "</style>\n",
       "<table border=\"1\" class=\"dataframe\">\n",
       "  <thead>\n",
       "    <tr style=\"text-align: right;\">\n",
       "      <th></th>\n",
       "      <th>Nom</th>\n",
       "      <th>nationalité</th>\n",
       "      <th>Horaire_Total</th>\n",
       "      <th>total_jobs_hours</th>\n",
       "      <th>salary</th>\n",
       "      <th>hours_per_week</th>\n",
       "    </tr>\n",
       "  </thead>\n",
       "  <tbody>\n",
       "    <tr>\n",
       "      <th>0</th>\n",
       "      <td>Igor Z.</td>\n",
       "      <td>Kyiv, Ukraine</td>\n",
       "      <td>498 Total Jobs30,740 Total Hours</td>\n",
       "      <td>93%  Job Success        The percentage of this...</td>\n",
       "      <td>$33.00/hr</td>\n",
       "      <td>Jan 20, 2022</td>\n",
       "    </tr>\n",
       "    <tr>\n",
       "      <th>1</th>\n",
       "      <td>Shabbir H.</td>\n",
       "      <td>Indore, India</td>\n",
       "      <td>1,137 Total Jobs1,521 Total Hours</td>\n",
       "      <td>92%  Job Success        The percentage of this...</td>\n",
       "      <td>$35.00/hr</td>\n",
       "      <td>Rating is 4 out of 5.     4.00       Oct 3,...</td>\n",
       "    </tr>\n",
       "    <tr>\n",
       "      <th>2</th>\n",
       "      <td>Alejandro A.</td>\n",
       "      <td>Buenos Aires, Argentina</td>\n",
       "      <td>313 Total Jobs414 Total Hours</td>\n",
       "      <td>99%  Job Success        The percentage of this...</td>\n",
       "      <td>$50.00/hr</td>\n",
       "      <td>Sep 16, 2021          -      Nov 1, 2021</td>\n",
       "    </tr>\n",
       "    <tr>\n",
       "      <th>3</th>\n",
       "      <td>Shina R.</td>\n",
       "      <td>Jalalabad, India</td>\n",
       "      <td>166 Total Jobs147 Total Hours</td>\n",
       "      <td>95%  Job Success        The percentage of this...</td>\n",
       "      <td>$15.00/hr</td>\n",
       "      <td>Rating is 5 out of 5.     5.00       Jan 23...</td>\n",
       "    </tr>\n",
       "    <tr>\n",
       "      <th>4</th>\n",
       "      <td>Amer Z.</td>\n",
       "      <td>Irbid, Jordan</td>\n",
       "      <td>14 Total Jobs4 Total Hours</td>\n",
       "      <td>91%  Job Success        The percentage of this...</td>\n",
       "      <td>$45.00/hr</td>\n",
       "      <td>Rating is 5 out of 5.     5.00       Aug 18...</td>\n",
       "    </tr>\n",
       "    <tr>\n",
       "      <th>...</th>\n",
       "      <td>...</td>\n",
       "      <td>...</td>\n",
       "      <td>...</td>\n",
       "      <td>...</td>\n",
       "      <td>...</td>\n",
       "      <td>...</td>\n",
       "    </tr>\n",
       "    <tr>\n",
       "      <th>366</th>\n",
       "      <td>Dayeon L.</td>\n",
       "      <td>Pyeongtaek, South Korea</td>\n",
       "      <td>118 Total Jobs1,913 Total Hours</td>\n",
       "      <td>98%  Job Success        The percentage of this...</td>\n",
       "      <td>$50.00/hr</td>\n",
       "      <td>Rating is 4.85 out of 5.     4.85       Oct...</td>\n",
       "    </tr>\n",
       "    <tr>\n",
       "      <th>367</th>\n",
       "      <td>Amit C.</td>\n",
       "      <td>Jalgaon, India</td>\n",
       "      <td>26 Total Jobs7 Total Hours</td>\n",
       "      <td>89%  Job Success        The percentage of this...</td>\n",
       "      <td>$8.00/hr</td>\n",
       "      <td>Rating is 4.7 out of 5.     4.70       May ...</td>\n",
       "    </tr>\n",
       "    <tr>\n",
       "      <th>368</th>\n",
       "      <td>James S.</td>\n",
       "      <td>Pottstown, United States</td>\n",
       "      <td>9 Total Jobs3 Total Hours</td>\n",
       "      <td>100%  Job Success        The percentage of thi...</td>\n",
       "      <td>$60.00/hr</td>\n",
       "      <td>Rating is 5 out of 5.     5.00       Dec 6,...</td>\n",
       "    </tr>\n",
       "    <tr>\n",
       "      <th>369</th>\n",
       "      <td>Ian D.</td>\n",
       "      <td>Herford, Germany</td>\n",
       "      <td>172 Total Jobs926 Total Hours</td>\n",
       "      <td>98%  Job Success        The percentage of this...</td>\n",
       "      <td>$62.50/hr</td>\n",
       "      <td>Rating is 5 out of 5.     5.00       Dec 17...</td>\n",
       "    </tr>\n",
       "    <tr>\n",
       "      <th>370</th>\n",
       "      <td>Alexsandra K.</td>\n",
       "      <td>Kyiv, Ukraine</td>\n",
       "      <td>6 Total Jobs</td>\n",
       "      <td>100%  Job Success        The percentage of thi...</td>\n",
       "      <td>$25.00/hr</td>\n",
       "      <td>Oct 21, 2021          -      Oct 26, 2021</td>\n",
       "    </tr>\n",
       "  </tbody>\n",
       "</table>\n",
       "<p>371 rows × 6 columns</p>\n",
       "</div>"
      ],
      "text/plain": [
       "                                     Nom                nationalité  \\\n",
       "0                      Igor Z.                        Kyiv, Ukraine   \n",
       "1                   Shabbir H.                        Indore, India   \n",
       "2                 Alejandro A.              Buenos Aires, Argentina   \n",
       "3                     Shina R.                     Jalalabad, India   \n",
       "4                      Amer Z.                        Irbid, Jordan   \n",
       "..                                   ...                        ...   \n",
       "366                  Dayeon L.              Pyeongtaek, South Korea   \n",
       "367                    Amit C.                       Jalgaon, India   \n",
       "368                   James S.             Pottstown, United States   \n",
       "369                     Ian D.                     Herford, Germany   \n",
       "370              Alexsandra K.                        Kyiv, Ukraine   \n",
       "\n",
       "                         Horaire_Total  \\\n",
       "0     498 Total Jobs30,740 Total Hours   \n",
       "1    1,137 Total Jobs1,521 Total Hours   \n",
       "2        313 Total Jobs414 Total Hours   \n",
       "3        166 Total Jobs147 Total Hours   \n",
       "4           14 Total Jobs4 Total Hours   \n",
       "..                                 ...   \n",
       "366    118 Total Jobs1,913 Total Hours   \n",
       "367         26 Total Jobs7 Total Hours   \n",
       "368          9 Total Jobs3 Total Hours   \n",
       "369      172 Total Jobs926 Total Hours   \n",
       "370                       6 Total Jobs   \n",
       "\n",
       "                                      total_jobs_hours        salary  \\\n",
       "0    93%  Job Success        The percentage of this...  $33.00/hr      \n",
       "1    92%  Job Success        The percentage of this...  $35.00/hr      \n",
       "2    99%  Job Success        The percentage of this...  $50.00/hr      \n",
       "3    95%  Job Success        The percentage of this...  $15.00/hr      \n",
       "4    91%  Job Success        The percentage of this...  $45.00/hr      \n",
       "..                                                 ...           ...   \n",
       "366  98%  Job Success        The percentage of this...  $50.00/hr      \n",
       "367  89%  Job Success        The percentage of this...   $8.00/hr      \n",
       "368  100%  Job Success        The percentage of thi...  $60.00/hr      \n",
       "369  98%  Job Success        The percentage of this...  $62.50/hr      \n",
       "370  100%  Job Success        The percentage of thi...  $25.00/hr      \n",
       "\n",
       "                                        hours_per_week  \n",
       "0                                    Jan 20, 2022       \n",
       "1       Rating is 4 out of 5.     4.00       Oct 3,...  \n",
       "2            Sep 16, 2021          -      Nov 1, 2021   \n",
       "3       Rating is 5 out of 5.     5.00       Jan 23...  \n",
       "4       Rating is 5 out of 5.     5.00       Aug 18...  \n",
       "..                                                 ...  \n",
       "366     Rating is 4.85 out of 5.     4.85       Oct...  \n",
       "367     Rating is 4.7 out of 5.     4.70       May ...  \n",
       "368     Rating is 5 out of 5.     5.00       Dec 6,...  \n",
       "369     Rating is 5 out of 5.     5.00       Dec 17...  \n",
       "370         Oct 21, 2021          -      Oct 26, 2021   \n",
       "\n",
       "[371 rows x 6 columns]"
      ]
     },
     "execution_count": 26,
     "metadata": {},
     "output_type": "execute_result"
    }
   ],
   "source": [
    "df"
   ]
  },
  {
   "cell_type": "markdown",
   "metadata": {},
   "source": [
    "## Mettre les données dans un fichier excel et le télécharger"
   ]
  },
  {
   "cell_type": "code",
   "execution_count": null,
   "metadata": {
    "colab": {
     "base_uri": "https://localhost:8080/",
     "height": 17
    },
    "id": "N7DBbAwfta0F",
    "outputId": "11781474-5790-4094-eb09-fff74fc44333"
   },
   "outputs": [],
   "source": [
    "with pd.ExcelWriter('NON angences2 (-1).xlsx') as writer : \n",
    "    df.to_excel(writer,sheet_name='sheet1')"
   ]
  },
  {
   "cell_type": "code",
   "execution_count": null,
   "metadata": {},
   "outputs": [],
   "source": []
  }
 ],
 "metadata": {
  "colab": {
   "collapsed_sections": [],
   "name": "362 freelancers qui travaille pas dans angences.ipynb",
   "provenance": []
  },
  "kernelspec": {
   "display_name": "Python 3",
   "language": "python",
   "name": "python3"
  },
  "language_info": {
   "codemirror_mode": {
    "name": "ipython",
    "version": 3
   },
   "file_extension": ".py",
   "mimetype": "text/x-python",
   "name": "python",
   "nbconvert_exporter": "python",
   "pygments_lexer": "ipython3",
   "version": "3.7.4"
  }
 },
 "nbformat": 4,
 "nbformat_minor": 1
}
